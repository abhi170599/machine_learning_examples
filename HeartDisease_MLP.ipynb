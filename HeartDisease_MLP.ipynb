{
 "cells": [
  {
   "cell_type": "code",
   "execution_count": 1,
   "metadata": {},
   "outputs": [],
   "source": [
    "import torch\n",
    "import torch.nn as nn\n",
    "import torch.nn.functional as F\n",
    "from torch.autograd import Variable\n",
    "torch.manual_seed(1234)\n",
    "import pandas as pd\n",
    "import matplotlib.pyplot as plt"
   ]
  },
  {
   "cell_type": "code",
   "execution_count": 2,
   "metadata": {},
   "outputs": [
    {
     "name": "stdout",
     "output_type": "stream",
     "text": [
      "[0. 2. 1. 0. 0. 0. 3. 0. 2. 1. 0. 0. 2. 0. 0. 0. 1. 0. 0. 0. 0. 0. 1. 3.\n",
      " 4. 0. 0. 0. 0. 3. 0. 2. 1. 0. 0. 0. 3. 1. 3. 0. 4. 0. 0. 0. 1. 4. 0. 4.\n",
      " 0. 0. 0. 0. 2. 0. 1. 1. 1. 1. 0. 0. 2. 0. 1. 0. 2. 2. 1. 0. 2. 1. 0. 3.\n",
      " 1. 1. 1. 0. 1. 0. 0. 3. 0. 0. 0. 3. 0. 0. 0. 0. 0. 0. 3. 0. 0. 0. 1. 2.\n",
      " 3. 0. 0. 0. 0. 0. 0. 3. 0. 2. 1. 2. 3. 1. 1. 0. 2. 2. 0. 0. 0. 3. 2. 3.\n",
      " 4. 0. 3. 1. 0. 3. 3. 0. 0. 0. 0. 0. 0. 0. 0. 4. 3. 1. 0. 0. 1. 0. 1. 0.\n",
      " 1. 4. 0. 0. 0. 0. 0. 0. 4. 3. 1. 1. 1. 2. 0. 0. 4. 0. 0. 0. 0. 0. 1. 0.\n",
      " 3. 0. 1. 0. 4. 1. 0. 1. 0. 0. 3. 2. 0. 0. 1. 0. 0. 2. 1. 2. 0. 3. 2. 0.\n",
      " 3. 0. 0. 0. 1. 0. 0. 0. 0. 0. 3. 3. 3. 0. 1. 0. 4. 0. 3. 1. 0. 0. 0. 0.\n",
      " 0. 0. 0. 0. 3. 1. 0. 0. 0. 3. 2. 0. 2. 1. 0. 0. 3. 2. 1. 0. 0. 0. 0. 0.\n",
      " 2. 0. 2. 2. 1. 3. 0. 0. 1. 0. 0. 0. 0. 0. 0. 0. 1. 0. 3. 0. 0. 4. 2. 2.\n",
      " 1. 0. 1. 0. 2. 0. 1. 0. 0. 0. 1. 0. 2. 0. 3. 0. 2. 4. 2. 0. 0. 1. 0. 2.\n",
      " 2. 1. 0. 3. 1. 1. 2. 3. 1.]\n"
     ]
    },
    {
     "name": "stderr",
     "output_type": "stream",
     "text": [
      "c:\\python\\lib\\site-packages\\ipykernel_launcher.py:4: FutureWarning: Method .as_matrix will be removed in a future version. Use .values instead.\n",
      "  after removing the cwd from sys.path.\n"
     ]
    }
   ],
   "source": [
    "# Loading the training data and changing the labels\n",
    "\n",
    "train_data = pd.read_csv('HeartDisease.csv')\n",
    "train_data = train_data.as_matrix()\n",
    "\n",
    "train_x = train_data[:,:13]\n",
    "train_y = train_data[:,13]\n",
    "\n",
    "print(train_y)\n",
    "\n",
    "    \n",
    "\n",
    "\n",
    "\n",
    "     \n",
    "\n"
   ]
  },
  {
   "cell_type": "code",
   "execution_count": 3,
   "metadata": {},
   "outputs": [],
   "source": [
    "# helping function\n",
    "def show_plot(iteration,loss):\n",
    "    plt.plot(iteration,loss)\n",
    "    plt.show()"
   ]
  },
  {
   "cell_type": "code",
   "execution_count": 15,
   "metadata": {},
   "outputs": [],
   "source": [
    "# Parameters \n",
    "\n",
    "h1 = 30\n",
    "h2 = 15\n",
    "lr = 0.001\n",
    "num_epochs = 500\n",
    "\n",
    "# MLP Model \n",
    "\n",
    "class Net(nn.Module):\n",
    "    \n",
    "    def __init__(self):\n",
    "        super(Net,self).__init__()\n",
    "        self.fc1 = nn.Linear(13,h1)\n",
    "        self.fc2 = nn.Linear(h1,h2)\n",
    "        self.fc3 = nn.Linear(h2,5)\n",
    "        \n",
    "    \n",
    "    def forward(self,x):\n",
    "        x = F.relu(self.fc1(x))\n",
    "        x = self.fc2(x)\n",
    "        x = self.fc3(x)\n",
    "        \n",
    "        \n",
    "        return x\n",
    "    \n",
    "net = Net()\n"
   ]
  },
  {
   "cell_type": "code",
   "execution_count": 16,
   "metadata": {},
   "outputs": [],
   "source": [
    "# Loss function and optimizer\n",
    "\n",
    "criterion = nn.CrossEntropyLoss()\n",
    "optimizer = torch.optim.SGD(net.parameters(),lr=lr)"
   ]
  },
  {
   "cell_type": "code",
   "execution_count": 17,
   "metadata": {},
   "outputs": [
    {
     "name": "stderr",
     "output_type": "stream",
     "text": [
      "c:\\python\\lib\\site-packages\\ipykernel_launcher.py:22: UserWarning: invalid index of a 0-dim tensor. This will be an error in PyTorch 0.5. Use tensor.item() to convert a 0-dim tensor to a Python number\n",
      "c:\\python\\lib\\site-packages\\ipykernel_launcher.py:24: UserWarning: invalid index of a 0-dim tensor. This will be an error in PyTorch 0.5. Use tensor.item() to convert a 0-dim tensor to a Python number\n"
     ]
    },
    {
     "name": "stdout",
     "output_type": "stream",
     "text": [
      " Epoch [1/500] Loss : 23.2025\n",
      " Epoch [11/500] Loss : 4.4287\n",
      " Epoch [21/500] Loss : 2.4919\n",
      " Epoch [31/500] Loss : 3.0033\n",
      " Epoch [41/500] Loss : 1.8696\n",
      " Epoch [51/500] Loss : 2.0255\n",
      " Epoch [61/500] Loss : 1.5168\n",
      " Epoch [71/500] Loss : 1.4861\n",
      " Epoch [81/500] Loss : 1.3792\n",
      " Epoch [91/500] Loss : 1.3206\n",
      " Epoch [101/500] Loss : 1.2795\n",
      " Epoch [111/500] Loss : 1.2499\n",
      " Epoch [121/500] Loss : 1.2280\n",
      " Epoch [131/500] Loss : 1.2115\n",
      " Epoch [141/500] Loss : 1.1988\n",
      " Epoch [151/500] Loss : 1.1890\n",
      " Epoch [161/500] Loss : 1.1815\n",
      " Epoch [171/500] Loss : 1.1758\n",
      " Epoch [181/500] Loss : 1.1712\n",
      " Epoch [191/500] Loss : 1.1674\n",
      " Epoch [201/500] Loss : 1.1644\n",
      " Epoch [211/500] Loss : 1.1617\n",
      " Epoch [221/500] Loss : 1.1596\n",
      " Epoch [231/500] Loss : 1.1577\n",
      " Epoch [241/500] Loss : 1.1562\n",
      " Epoch [251/500] Loss : 1.1548\n",
      " Epoch [261/500] Loss : 1.1538\n",
      " Epoch [271/500] Loss : 1.1529\n",
      " Epoch [281/500] Loss : 1.1523\n",
      " Epoch [291/500] Loss : 1.1518\n",
      " Epoch [301/500] Loss : 1.1515\n",
      " Epoch [311/500] Loss : 1.1514\n",
      " Epoch [321/500] Loss : 1.1514\n",
      " Epoch [331/500] Loss : 1.1514\n",
      " Epoch [341/500] Loss : 1.1516\n",
      " Epoch [351/500] Loss : 1.1516\n",
      " Epoch [361/500] Loss : 1.1513\n",
      " Epoch [371/500] Loss : 1.1509\n",
      " Epoch [381/500] Loss : 1.1504\n",
      " Epoch [391/500] Loss : 1.1498\n",
      " Epoch [401/500] Loss : 1.1490\n",
      " Epoch [411/500] Loss : 1.1484\n",
      " Epoch [421/500] Loss : 1.1477\n",
      " Epoch [431/500] Loss : 1.1471\n",
      " Epoch [441/500] Loss : 1.1465\n",
      " Epoch [451/500] Loss : 1.1458\n",
      " Epoch [461/500] Loss : 1.1451\n",
      " Epoch [471/500] Loss : 1.1446\n",
      " Epoch [481/500] Loss : 1.1439\n",
      " Epoch [491/500] Loss : 1.1433\n"
     ]
    },
    {
     "data": {
      "image/png": "[encoded data removed]",
      "text/plain": [
       "<Figure size 432x288 with 1 Axes>"
      ]
     },
     "metadata": {},
     "output_type": "display_data"
    }
   ],
   "source": [
    "# Training the network\n",
    "\n",
    "counter =[]\n",
    "loss_history =[]\n",
    "iteration_number = 0\n",
    "\n",
    "\n",
    "for epoch in range(num_epochs):\n",
    "    \n",
    "    X = Variable(torch.Tensor(train_x).float())\n",
    "    Y = Variable(torch.Tensor(train_y).long())\n",
    "    \n",
    "    optimizer.zero_grad()\n",
    "    out = net(X)\n",
    "    \n",
    "    loss = criterion(out,Y)\n",
    "    loss.backward()\n",
    "    optimizer.step()\n",
    "    \n",
    "    if epoch % 10 ==0:\n",
    "        iteration_number+=10\n",
    "        print(' Epoch [%d/%d] Loss : %.4f' %(epoch+1,num_epochs,loss.data[0]))\n",
    "        counter.append(iteration_number)\n",
    "        loss_history.append(loss.data[0])\n",
    "\n",
    "show_plot(counter,loss_history)"
   ]
  },
  {
   "cell_type": "code",
   "execution_count": 18,
   "metadata": {},
   "outputs": [
    {
     "name": "stdout",
     "output_type": "stream",
     "text": [
      "Accuracy of the network 55 %\n"
     ]
    }
   ],
   "source": [
    "## Testing the model \n",
    "\n",
    "X = Variable(torch.Tensor(train_x).float())\n",
    "Y = torch.Tensor(train_y).long()\n",
    "\n",
    "out = net(X)\n",
    "\n",
    "_,predicted = torch.max(out.data,1)\n",
    "\n",
    "# get accuracy\n",
    "\n",
    "print('Accuracy of the network %d %%' %(100*torch.sum(Y==predicted)/297))"
   ]
  },
  {
   "cell_type": "code",
   "execution_count": 30,
   "metadata": {},
   "outputs": [
    {
     "name": "stdout",
     "output_type": "stream",
     "text": [
      "0\n"
     ]
    }
   ],
   "source": [
    "X = [19,1,1,1,1,1,1,11,1,1,1,1,1]\n",
    "X = Variable(torch.Tensor(X).float())\n",
    "def pred(input_variable):\n",
    "    \n",
    "    out = net(input_variable)\n",
    "    \n",
    "    stage = 0\n",
    "    stage_class=0\n",
    "    for pos in range (5):\n",
    "        if out[pos]>stage:\n",
    "             \n",
    "            stage_class = pos\n",
    "            stage = out[pos]\n",
    "    return stage_class\n",
    "\n",
    "predicted = pred(X)\n",
    "print(predicted)\n"
   ]
  },
  {
   "cell_type": "code",
   "execution_count": null,
   "metadata": {},
   "outputs": [],
   "source": []
  }
 ],
 "metadata": {
  "kernelspec": {
   "display_name": "Python 3",
   "language": "python",
   "name": "python3"
  },
  "language_info": {
   "codemirror_mode": {
    "name": "ipython",
    "version": 3
   },
   "file_extension": ".py",
   "mimetype": "text/x-python",
   "name": "python",
   "nbconvert_exporter": "python",
   "pygments_lexer": "ipython3",
   "version": "3.6.2"
  }
 },
 "nbformat": 4,
 "nbformat_minor": 2
}
